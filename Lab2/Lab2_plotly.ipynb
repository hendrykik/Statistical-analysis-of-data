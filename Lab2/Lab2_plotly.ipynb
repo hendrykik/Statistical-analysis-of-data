{
 "cells": [
  {
   "cell_type": "markdown",
   "id": "85c24f78-26d8-43bf-a285-f93092ede823",
   "metadata": {},
   "source": [
    "# Laboratorium ze Statystyki\n",
    "\n",
    "## Zajęcia z wykresów\n",
    "\n",
    "### 1. Wczytanie odpowiednich bibliotek - w tym przypadku praca z plotly\n",
    "\n",
    "Pozostałe osoby z grupy zajęły się seabornem oraz matplotlibem\n",
    "\n",
    "**Ważne - należy dodać linijkę `pio.renderers.default = 'iframe'` aby wykresy się wyświetliły**\n",
    "\n",
    "Wczytujemy również nasz dataFrame\n",
    "\n",
    "Zbiór danych z: https://www.kaggle.com/datasets/meruvulikith/90000-cars-data-from-1970-to-2024"
   ]
  },
  {
   "cell_type": "code",
   "execution_count": 2,
   "id": "b058839d-19d4-4af0-b3a1-08b38109a8e6",
   "metadata": {},
   "outputs": [],
   "source": [
    "import plotly.express as px\n",
    "import plotly.io as pio\n",
    "import pandas as pd\n",
    "import numpy as np\n",
    "\n",
    "pio.renderers.default = 'iframe'\n",
    "\n",
    "df = pd.read_csv('cars/CarsData.csv')"
   ]
  },
  {
   "cell_type": "markdown",
   "id": "dc3918d4-f5f4-4f28-8fd9-b6c3189277f6",
   "metadata": {},
   "source": [
    "### 2. Wykres przedstawiający liczbę wyprodukowanych różnych modeli samochodów na rok"
   ]
  },
  {
   "cell_type": "code",
   "execution_count": 3,
   "id": "9e793e2b-2a5d-4d42-ba87-efd20768f47d",
   "metadata": {},
   "outputs": [
    {
     "data": {
      "text/html": [
       "<iframe\n",
       "    scrolling=\"no\"\n",
       "    width=\"100%\"\n",
       "    height=\"545px\"\n",
       "    src=\"iframe_figures/figure_3.html\"\n",
       "    frameborder=\"0\"\n",
       "    allowfullscreen\n",
       "></iframe>\n"
      ]
     },
     "metadata": {},
     "output_type": "display_data"
    }
   ],
   "source": [
    "filtered_df = df[df['year'] >= 1996]\n",
    "\n",
    "year_counts = filtered_df['year'].value_counts().reset_index()\n",
    "year_counts.columns = ['year', 'count']\n",
    "\n",
    "fig = px.bar(year_counts, x='year', y='count', labels={'year': 'Year', 'count': 'Number of Cars'}, title='Number of Cars by Year')\n",
    "fig.show()"
   ]
  },
  {
   "cell_type": "markdown",
   "id": "4da8e839-da38-45ee-b4d2-55d0e442783f",
   "metadata": {},
   "source": [
    "### 3. Wykres przedstawiający liczbę modeli samochodów wyprodukowanych przez danego producenta"
   ]
  },
  {
   "cell_type": "code",
   "execution_count": 4,
   "id": "2b3077ad-d618-47ad-9a1d-8d8056dc8e6d",
   "metadata": {},
   "outputs": [
    {
     "data": {
      "text/html": [
       "<iframe\n",
       "    scrolling=\"no\"\n",
       "    width=\"100%\"\n",
       "    height=\"545px\"\n",
       "    src=\"iframe_figures/figure_4.html\"\n",
       "    frameborder=\"0\"\n",
       "    allowfullscreen\n",
       "></iframe>\n"
      ]
     },
     "metadata": {},
     "output_type": "display_data"
    }
   ],
   "source": [
    "manufacturer_counts = df['Manufacturer'].value_counts().reset_index()\n",
    "manufacturer_counts.columns = ['Manufacturer', 'count']\n",
    "\n",
    "# Creating the bar chart\n",
    "fig = px.bar(manufacturer_counts, x='Manufacturer', y='count', labels={'Manufacturer': 'Manufacturer', 'count': 'Number of Cars'}, title='Number of Cars by Manufacturer')\n",
    "fig.show()"
   ]
  },
  {
   "cell_type": "markdown",
   "id": "907aee39-e20e-4963-90dd-825f985c2b65",
   "metadata": {},
   "source": [
    "### 4. Połączenie dwóch poprzednich wykresów - liczba różnych modeli wyprodukowanych przez producentów w danych latach"
   ]
  },
  {
   "cell_type": "code",
   "execution_count": 18,
   "id": "ede2a6b8-24e7-45e2-afbd-b1fca8aa712f",
   "metadata": {},
   "outputs": [
    {
     "data": {
      "text/html": [
       "<iframe\n",
       "    scrolling=\"no\"\n",
       "    width=\"100%\"\n",
       "    height=\"545px\"\n",
       "    src=\"iframe_figures/figure_18.html\"\n",
       "    frameborder=\"0\"\n",
       "    allowfullscreen\n",
       "></iframe>\n"
      ]
     },
     "metadata": {},
     "output_type": "display_data"
    }
   ],
   "source": [
    "filtered_df = df[df['year'] >= 1996]\n",
    "year_manufacturer_counts = filtered_df.groupby(['year', 'Manufacturer']).size().reset_index(name='count')\n",
    "\n",
    "# Creating the stacked bar chart\n",
    "fig = px.bar(year_manufacturer_counts, x='year', y='count', color='Manufacturer', \n",
    "             labels={'year': 'Year', 'count': 'Number of Cars'}, \n",
    "             title='Number of Cars by Manufacturer and Year',\n",
    "             barmode='stack')\n",
    "fig.show()"
   ]
  },
  {
   "cell_type": "markdown",
   "id": "cd644142-f156-49dc-8dcc-061246c3ed78",
   "metadata": {},
   "source": [
    "### 5. Poprzedni wykres ze skalą osi Y jako logarytmiczna"
   ]
  },
  {
   "cell_type": "code",
   "execution_count": 19,
   "id": "b7da6c6f-b73c-4b25-9114-b762dd8b4870",
   "metadata": {},
   "outputs": [
    {
     "data": {
      "text/html": [
       "<iframe\n",
       "    scrolling=\"no\"\n",
       "    width=\"100%\"\n",
       "    height=\"545px\"\n",
       "    src=\"iframe_figures/figure_19.html\"\n",
       "    frameborder=\"0\"\n",
       "    allowfullscreen\n",
       "></iframe>\n"
      ]
     },
     "metadata": {},
     "output_type": "display_data"
    }
   ],
   "source": [
    "filtered_df = df[df['year'] >= 1996]\n",
    "year_manufacturer_counts = filtered_df.groupby(['year', 'Manufacturer']).size().reset_index(name='count')\n",
    "\n",
    "# Creating the stacked bar chart\n",
    "fig = px.bar(year_manufacturer_counts, x='year', y='count', color='Manufacturer', \n",
    "             labels={'year': 'Year', 'count': 'Number of Cars'}, \n",
    "             title='Number of Cars by Manufacturer and Year',\n",
    "             barmode='stack',\n",
    "             log_y = 'True')\n",
    "fig.show()"
   ]
  },
  {
   "cell_type": "markdown",
   "id": "d01a83ca-0d53-40a8-82c1-0aca4b2dc6c4",
   "metadata": {},
   "source": [
    "Poprawiając widoczność danych dla lat w których wyprodukowano mało modeli, pogarszamy widoczność dla danych w latach późniejszych"
   ]
  },
  {
   "cell_type": "markdown",
   "id": "f8c96cc2-f841-42e9-9bdd-810bdb62758c",
   "metadata": {},
   "source": [
    "### 6. Wykres kołowy przedstawiający procent rodzajów paliwa używanych przez modele samochodów"
   ]
  },
  {
   "cell_type": "code",
   "execution_count": 20,
   "id": "632b0d55-2e6f-4388-b866-add9590e90bf",
   "metadata": {},
   "outputs": [
    {
     "data": {
      "text/html": [
       "<iframe\n",
       "    scrolling=\"no\"\n",
       "    width=\"100%\"\n",
       "    height=\"545px\"\n",
       "    src=\"iframe_figures/figure_20.html\"\n",
       "    frameborder=\"0\"\n",
       "    allowfullscreen\n",
       "></iframe>\n"
      ]
     },
     "metadata": {},
     "output_type": "display_data"
    }
   ],
   "source": [
    "fuel_counts = df['fuelType'].value_counts().reset_index()\n",
    "fuel_counts.columns = ['Fuel Type', 'Count']\n",
    "\n",
    "fig = px.pie(fuel_counts, names='Fuel Type', values='Count', \n",
    "             title='Percentage of Cars by Fuel Type')\n",
    "fig.show()"
   ]
  },
  {
   "cell_type": "markdown",
   "id": "a49ef66f-2a16-44fa-864c-8d179486cb9d",
   "metadata": {},
   "source": [
    "### 7. Histogram w skali logarytmicznej przedstawiający rozkład ceny pojazdów"
   ]
  },
  {
   "cell_type": "code",
   "execution_count": 5,
   "id": "25b49895-8ca7-4f61-a818-d6c2c501f952",
   "metadata": {},
   "outputs": [
    {
     "data": {
      "text/html": [
       "<iframe\n",
       "    scrolling=\"no\"\n",
       "    width=\"100%\"\n",
       "    height=\"545px\"\n",
       "    src=\"iframe_figures/figure_5.html\"\n",
       "    frameborder=\"0\"\n",
       "    allowfullscreen\n",
       "></iframe>\n"
      ]
     },
     "metadata": {},
     "output_type": "display_data"
    }
   ],
   "source": [
    "fig = px.histogram(df, x='price', nbins=20, \n",
    "                   labels={'price': 'Price', 'count': 'Number of Cars'},\n",
    "                   title='Distribution of Car Prices',\n",
    "                   log_y = 'True')\n",
    "fig.show()"
   ]
  },
  {
   "cell_type": "markdown",
   "id": "4f2b0aea-c21a-409a-bb97-c000487f7a25",
   "metadata": {},
   "source": [
    "### 8. Box plot cen samochodów a zastosowanej w nich skrzyni biegów"
   ]
  },
  {
   "cell_type": "code",
   "execution_count": 24,
   "id": "d99c4c91-ea51-4fcc-8209-ef4be055f1fb",
   "metadata": {},
   "outputs": [
    {
     "data": {
      "text/html": [
       "<iframe\n",
       "    scrolling=\"no\"\n",
       "    width=\"100%\"\n",
       "    height=\"545px\"\n",
       "    src=\"iframe_figures/figure_24.html\"\n",
       "    frameborder=\"0\"\n",
       "    allowfullscreen\n",
       "></iframe>\n"
      ]
     },
     "metadata": {},
     "output_type": "display_data"
    }
   ],
   "source": [
    "fig = px.box(df, x='transmission', y='price', \n",
    "             labels={'transmission': 'Transmission', 'price': 'Price'},\n",
    "             title='Box Plot: Distribution of Car Prices by Transmission Type')\n",
    "fig.show()"
   ]
  },
  {
   "cell_type": "code",
   "execution_count": null,
   "id": "116e3c42-3a46-4c34-a568-77995eb66cbc",
   "metadata": {},
   "outputs": [],
   "source": []
  }
 ],
 "metadata": {
  "kernelspec": {
   "display_name": "Python 3 (ipykernel)",
   "language": "python",
   "name": "python3"
  },
  "language_info": {
   "codemirror_mode": {
    "name": "ipython",
    "version": 3
   },
   "file_extension": ".py",
   "mimetype": "text/x-python",
   "name": "python",
   "nbconvert_exporter": "python",
   "pygments_lexer": "ipython3",
   "version": "3.11.2"
  }
 },
 "nbformat": 4,
 "nbformat_minor": 5
}
